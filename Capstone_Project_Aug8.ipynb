{
 "cells": [
  {
   "cell_type": "markdown",
   "metadata": {},
   "source": [
    "# Finding the Best Location for a Tattoo Parlor in Portland, Oregon"
   ]
  },
  {
   "cell_type": "markdown",
   "metadata": {},
   "source": [
    "### The Problem"
   ]
  },
  {
   "cell_type": "markdown",
   "metadata": {},
   "source": [
    "A childhood friend contacted me recently about a business idea. She is originally from Portland, Oregon, but after high school, she moved away to go to art school. Since then, she has completed her BFA and spent a number of years developing her skills as a tattoo artist. Now she is ready to return to Portland. Her plan is to open her own tattoo parlor, and she asked if I would help her find the best possible location for her business.\n",
    "\n",
    "After I agreed to help my friend, we began researching the question, \"Who gets tattoos in the United States?\" We discovered a few facts that will help guide us in thinking about where to open a tattoo parlor:\n",
    "\n",
    "* About a third of people between 18 and 29 have at least one tattoo.\n",
    "* About 30% of college graduates have tattoos.\n",
    "* Older Millenials (aged 30-39) are the most likely to get a tattoo.\n",
    "\n",
    "(Source: https://comparecamp.com/tattoo-statistics/)"
   ]
  },
  {
   "cell_type": "markdown",
   "metadata": {},
   "source": [
    "### The Data"
   ]
  },
  {
   "cell_type": "markdown",
   "metadata": {},
   "source": [
    "I will use three sources of data to find the best possible location for my friend's tattoo parlor.\n",
    "\n",
    "First, I will download a list of all Portland neighborhoods and their geospatial data from portlandmaps.com. Portlandmaps.com is a website published by the City of Portland and provides open-source data. Their website can be found at https://gis-pdx.opendata.arcgis.com/. For my project, I will use their Neighborhood (Regions) data set (https://gis-pdx.opendata.arcgis.com/datasets/neighborhoods-regions/explore?location=45.542750%2C-122.667150%2C11.72).\n",
    "\n",
    "Second, I will use census data that the City of Portland posted at https://www.portlandoregon.gov/civic/28387. This data file will provide demographic information for each neighborhood including age groups. I will incorporate these findings with the geospatial data. By including age groups by neighborhood, we will be able to see the areas of the city where the most people between the ages of 18 and 39 live (people who are the most likely to get a tattoo).\n",
    "\n",
    "Finally, I will use the FourSquare API to search for business data in Portland, Oregon. I will search for all tattoo parlors in Portland, Oregon, and segment the findings by neighborhood. I will search for the top 5 venues for each neighborhood. I will create dataframes to help with analyzing the data. I will map each neighborhood to show existing tattoo parlors. \n",
    "\n",
    "The best neighborhood will be determined by how many tattoo parlors already exist in the area, whether a neighborhood lists a tattoo parlor as a top-5 venue, and which neighborhood has the most people between the ages of 18 and 39. \n",
    "\n",
    "\n"
   ]
  },
  {
   "cell_type": "code",
   "execution_count": null,
   "metadata": {},
   "outputs": [],
   "source": []
  }
 ],
 "metadata": {
  "kernelspec": {
   "display_name": "Python 3",
   "language": "python",
   "name": "python3"
  },
  "language_info": {
   "codemirror_mode": {
    "name": "ipython",
    "version": 3
   },
   "file_extension": ".py",
   "mimetype": "text/x-python",
   "name": "python",
   "nbconvert_exporter": "python",
   "pygments_lexer": "ipython3",
   "version": "3.8.5"
  }
 },
 "nbformat": 4,
 "nbformat_minor": 4
}
